{
 "cells": [
  {
   "cell_type": "code",
   "execution_count": 1,
   "id": "283945c5-ab4f-46df-a925-7efb0ba49264",
   "metadata": {},
   "outputs": [],
   "source": [
    "#Q1\n",
    "# Multithreading is a process through which we can divide our processes or threads and we can assign those\n",
    "# thread to a particular processor to process. It is used to imrpove the performance of the code.\n",
    "# Threading module is used for multithreading"
   ]
  },
  {
   "cell_type": "code",
   "execution_count": 1,
   "id": "acbe3eca-ea9d-4792-b4f9-08224de7ca90",
   "metadata": {},
   "outputs": [],
   "source": [
    "#Q2\n",
    "# activeCount() is used to count the currently active or running threads.\n",
    "# currentThread() is used to count the number of thread objects in the caller's thread control.\n",
    "# threading.enumerate() is used to count the list of all thread objects that are currently active"
   ]
  },
  {
   "cell_type": "code",
   "execution_count": 2,
   "id": "5d557463-89f6-49c1-be82-5a8f51a88d21",
   "metadata": {},
   "outputs": [],
   "source": [
    "#Q3\n",
    "# run() is used as a entry point for a thread\n",
    "# start() is used to start a thread\n",
    "# join() is used to wait for a thread to terminate\n",
    "# isalive() is used to check if the thread is alive or not, it will return True and False accordingly."
   ]
  },
  {
   "cell_type": "code",
   "execution_count": 54,
   "id": "9bd4e713-5a3f-4ba1-81cf-da5c65b429af",
   "metadata": {},
   "outputs": [],
   "source": [
    "#Q4\n",
    "\n",
    "l = [2,3,4,5,6]\n",
    "import threading\n",
    "\n",
    "def calculatesqr(n):\n",
    "     print(n*n)\n",
    "def calculatecube(n):\n",
    "    print(n*n*n)\n",
    "\n",
    "thread1 = (threading.Thread(target=calculatesqr, args=(i,) )for i in l)\n",
    "thread2 = (threading.Thread(target=calculatecube, args=(j,) )for j in l)"
   ]
  },
  {
   "cell_type": "code",
   "execution_count": 55,
   "id": "94894b85-f138-4ad6-b51a-583395bb0d27",
   "metadata": {},
   "outputs": [
    {
     "name": "stdout",
     "output_type": "stream",
     "text": [
      "Squares\n",
      "4\n",
      "9\n",
      "16\n",
      "25\n",
      "36\n",
      "Cubes\n",
      "8\n",
      "27\n",
      "64\n",
      "125\n",
      "216\n"
     ]
    }
   ],
   "source": [
    "print(\"Squares\")\n",
    "for i in thread1:\n",
    "    i.start()\n",
    "print(\"Cubes\")\n",
    "for j in thread2:\n",
    "    j.start()"
   ]
  },
  {
   "cell_type": "code",
   "execution_count": 58,
   "id": "74206d8f-3da6-4642-9952-50e397ae048e",
   "metadata": {},
   "outputs": [],
   "source": [
    "#Q5\n",
    "#Advantages :-\n",
    "# Better performance:\n",
    "# Parallelism\n",
    "# Better resource utilization\n",
    "# Simplified modeling\n",
    "# Responsiveness\n",
    "\n",
    "#Disadvatages :-\n",
    "# Complexity\n",
    "# Synchronization overhead\n",
    "# Limited by hardware\n",
    "# Hard to predict behavior\n",
    "# Context switching"
   ]
  },
  {
   "cell_type": "code",
   "execution_count": 59,
   "id": "d8491127-5047-4e1f-a2f2-4e9e80a5df5e",
   "metadata": {},
   "outputs": [],
   "source": [
    "#Q6\n",
    "#A deadlock is a concurrency failure mode where a thread or threads wait\n",
    "#for a condition that never occurs, whereas race condition is where thread or threads\n",
    "#races to get to access a shared piece of data at the same time."
   ]
  },
  {
   "cell_type": "code",
   "execution_count": null,
   "id": "135d68f1-088a-4207-bb14-846516bdb415",
   "metadata": {},
   "outputs": [],
   "source": []
  }
 ],
 "metadata": {
  "kernelspec": {
   "display_name": "Python 3 (ipykernel)",
   "language": "python",
   "name": "python3"
  },
  "language_info": {
   "codemirror_mode": {
    "name": "ipython",
    "version": 3
   },
   "file_extension": ".py",
   "mimetype": "text/x-python",
   "name": "python",
   "nbconvert_exporter": "python",
   "pygments_lexer": "ipython3",
   "version": "3.10.8"
  }
 },
 "nbformat": 4,
 "nbformat_minor": 5
}
